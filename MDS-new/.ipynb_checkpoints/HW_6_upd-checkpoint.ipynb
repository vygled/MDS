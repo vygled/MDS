{
 "cells": [
  {
   "cell_type": "markdown",
   "metadata": {
    "id": "_kX74ytuOfgy"
   },
   "source": [
    "# Домашнее задание \"Теория оптимизации\"."
   ]
  },
  {
   "cell_type": "markdown",
   "metadata": {
    "id": "9JUikPzroAL8"
   },
   "source": [
    "### Задание"
   ]
  },
  {
   "cell_type": "markdown",
   "metadata": {
    "id": "o0SZ0WXHBAno"
   },
   "source": [
    "В данном задании нужно поэксперементировать с оптимизацией функций с помощью библиотеки [scipy](https://docs.scipy.org/doc/scipy/index.html).\n",
    "\n",
    "Попробуем найти оптимальные параметры (начальные `p0` и метод `method`) некоторой функции f, которая описывает зависимость между x и y. \n",
    "Для этой цели будем использовать [curve_fit](https://docs.scipy.org/doc/scipy/reference/generated/scipy.optimize.curve_fit.html). Цель – найти такие параметры, при которых функция будет повторять исходную.\n",
    "\n",
    "При заданных парах <x, y> если у нас есть представление о виде функции, которая сопоставляет x -> y, но мы знаем только общий вид функции за исключением параметров, curve_fit позволит найти эти параметры."
   ]
  },
  {
   "cell_type": "code",
   "execution_count": 1,
   "metadata": {
    "id": "na4yaRU2BIJh"
   },
   "outputs": [],
   "source": [
    "import matplotlib.pyplot as plt\n",
    "import numpy as np\n",
    "import scipy\n",
    "import pandas as pd\n",
    "\n",
    "%matplotlib inline\n",
    "\n",
    "from scipy.optimize import curve_fit"
   ]
  },
  {
   "cell_type": "code",
   "execution_count": 58,
   "metadata": {
    "id": "MJI0mH-mBJR1"
   },
   "outputs": [],
   "source": [
    "x = np.linspace(1, 7, 300)\n",
    "y = [ 31.11,  30.55,  29.95,  29.3 ,  28.6 ,  27.86,  27.08,  26.25,\n",
    "        25.38,  24.48,  23.54,  22.56,  21.54,  20.5 ,  19.42,  18.32,\n",
    "        17.18,  16.02,  14.84,  13.64,  12.41,  11.17,   9.91,   8.64,\n",
    "         7.36,   6.07,   4.77,   3.46,   2.15,   0.84,  -0.46,  -1.77,\n",
    "        -3.07,  -4.36,  -5.64,  -6.91,  -8.17,  -9.41, -10.63, -11.83,\n",
    "       -13.01, -14.17, -15.3 , -16.4 , -17.47, -18.52, -19.53, -20.5 ,\n",
    "       -21.44, -22.34, -23.2 , -24.02, -24.8 , -25.54, -26.23, -26.88,\n",
    "       -27.48, -28.03, -28.53, -28.99, -29.39, -29.74, -30.04, -30.29,\n",
    "       -30.49, -30.63, -30.72, -30.76, -30.75, -30.68, -30.56, -30.38,\n",
    "       -30.15, -29.87, -29.54, -29.15, -28.72, -28.23, -27.7 , -27.11,\n",
    "       -26.48, -25.8 , -25.08, -24.31, -23.5 , -22.64, -21.75, -20.81,\n",
    "       -19.84, -18.83, -17.79, -16.71, -15.6 , -14.46, -13.3 , -12.11,\n",
    "       -10.89,  -9.65,  -8.39,  -7.11,  -5.82,  -4.51,  -3.19,  -1.86,\n",
    "        -0.52,   0.82,   2.17,   3.52,   4.86,   6.21,   7.55,   8.88,\n",
    "        10.21,  11.52,  12.82,  14.11,  15.37,  16.62,  17.85,  19.05,\n",
    "        20.23,  21.38,  22.5 ,  23.6 ,  24.65,  25.68,  26.67,  27.62,\n",
    "        28.53,  29.41,  30.24,  31.03,  31.77,  32.47,  33.12,  33.73,\n",
    "        34.28,  34.79,  35.25,  35.66,  36.01,  36.32,  36.57,  36.77,\n",
    "        36.91,  37.01,  37.04,  37.03,  36.96,  36.84,  36.67,  36.44,\n",
    "        36.17,  35.84,  35.46,  35.02,  34.54,  34.01,  33.43,  32.81,\n",
    "        32.14,  31.42,  30.66,  29.86,  29.01,  28.13,  27.21,  26.25,\n",
    "        25.25,  24.23,  23.17,  22.08,  20.96,  19.81,  18.64,  17.45,\n",
    "        16.24,  15.  ,  13.75,  12.49,  11.21,   9.93,   8.63,   7.33,\n",
    "         6.02,   4.71,   3.4 ,   2.1 ,   0.8 ,  -0.5 ,  -1.79,  -3.06,\n",
    "        -4.33,  -5.58,  -6.81,  -8.02,  -9.22, -10.39, -11.53, -12.65,\n",
    "       -13.74, -14.8 , -15.83, -16.82, -17.78, -18.7 , -19.59, -20.43,\n",
    "       -21.23, -21.99, -22.71, -23.38, -24.01, -24.59, -25.12, -25.6 ,\n",
    "       -26.03, -26.41, -26.74, -27.02, -27.24, -27.42, -27.54, -27.61,\n",
    "       -27.62, -27.58, -27.49, -27.34, -27.14, -26.89, -26.59, -26.23,\n",
    "       -25.83, -25.37, -24.86, -24.3 , -23.7 , -23.05, -22.35, -21.6 ,\n",
    "       -20.81, -19.98, -19.11, -18.2 , -17.24, -16.26, -15.23, -14.17,\n",
    "       -13.08, -11.96, -10.81,  -9.63,  -8.43,  -7.2 ,  -5.95,  -4.68,\n",
    "        -3.4 ,  -2.1 ,  -0.79,   0.54,   1.87,   3.21,   4.56,   5.91,\n",
    "         7.26,   8.6 ,   9.95,  11.29,  12.62,  13.94,  15.24,  16.54,\n",
    "        17.81,  19.07,  20.31,  21.53,  22.72,  23.89,  25.03,  26.13,\n",
    "        27.21,  28.26,  29.26,  30.24,  31.17,  32.07,  32.92,  33.73,\n",
    "        34.5 ,  35.23,  35.91,  36.54,  37.12,  37.66,  38.14,  38.58,\n",
    "        38.96,  39.3 ,  39.58,  39.8 ]"
   ]
  },
  {
   "cell_type": "code",
   "execution_count": 59,
   "metadata": {
    "id": "6dAneAayBKWz"
   },
   "outputs": [
    {
     "data": {
      "image/png": "[encoded data removed]",
      "text/plain": [
       "<Figure size 216x144 with 1 Axes>"
      ]
     },
     "metadata": {
      "needs_background": "light"
     },
     "output_type": "display_data"
    }
   ],
   "source": [
    "plt.figure(figsize=(3, 2))\n",
    "plt.plot(x, y)\n",
    "plt.show()"
   ]
  },
  {
   "cell_type": "code",
   "execution_count": 60,
   "metadata": {
    "id": "cs3Dqu32BLqB"
   },
   "outputs": [],
   "source": [
    "def f(x, a, b):\n",
    "    return np.e**a * np.sin(b*x) + x"
   ]
  },
  {
   "cell_type": "markdown",
   "metadata": {},
   "source": [
    "## https://docs.scipy.org/doc/scipy/reference/generated/scipy.optimize.curve_fit.html\n",
    "\n",
    "curve_fit() используется для подгонки кривой с помощью нелинейных наименьших квадратов."
   ]
  },
  {
   "cell_type": "code",
   "execution_count": 33,
   "metadata": {},
   "outputs": [
    {
     "data": {
      "image/png": "[encoded data removed]",
      "text/plain": [
       "<Figure size 216x144 with 1 Axes>"
      ]
     },
     "metadata": {
      "needs_background": "light"
     },
     "output_type": "display_data"
    }
   ],
   "source": [
    "res = curve_fit(f, x, y)\n",
    "\n",
    "plt.figure(figsize=(3, 2))\n",
    "plt.plot(x, y, color='blue')\n",
    "plt.plot(x, f(x, res[0][0], res[0][1]), color='red')\n",
    "plt.show()"
   ]
  },
  {
   "cell_type": "code",
   "execution_count": 81,
   "metadata": {},
   "outputs": [
    {
     "data": {
      "image/png": "[encoded data removed]",
      "text/plain": [
       "<Figure size 216x144 with 1 Axes>"
      ]
     },
     "metadata": {
      "needs_background": "light"
     },
     "output_type": "display_data"
    },
    {
     "data": {
      "text/plain": [
       "array([-12.12957147,   0.87495799])"
      ]
     },
     "execution_count": 81,
     "metadata": {},
     "output_type": "execute_result"
    }
   ],
   "source": [
    "res = curve_fit(f, x, y, method='lm')\n",
    "\n",
    "plt.figure(figsize=(3, 2))\n",
    "plt.plot(x, y, color='blue')\n",
    "plt.plot(x, f(x, res[0][0], res[0][1]), color='red')\n",
    "plt.show()\n",
    "\n",
    "res[0]"
   ]
  },
  {
   "cell_type": "code",
   "execution_count": 80,
   "metadata": {},
   "outputs": [
    {
     "data": {
      "image/png": "[encoded data removed]",
      "text/plain": [
       "<Figure size 216x144 with 1 Axes>"
      ]
     },
     "metadata": {
      "needs_background": "light"
     },
     "output_type": "display_data"
    },
    {
     "data": {
      "text/plain": [
       "array([0.97965288, 4.93951351])"
      ]
     },
     "execution_count": 80,
     "metadata": {},
     "output_type": "execute_result"
    }
   ],
   "source": [
    "res = curve_fit(f, x, y, p0=(0, 3))\n",
    "\n",
    "plt.figure(figsize=(3, 2))\n",
    "plt.plot(x, y, color='blue')\n",
    "plt.plot(x, f(x, res[0][0], res[0][1]), color='red')\n",
    "plt.show()\n",
    "\n",
    "res[0]"
   ]
  },
  {
   "cell_type": "code",
   "execution_count": 79,
   "metadata": {},
   "outputs": [
    {
     "data": {
      "image/png": "[encoded data removed]",
      "text/plain": [
       "<Figure size 216x144 with 1 Axes>"
      ]
     },
     "metadata": {
      "needs_background": "light"
     },
     "output_type": "display_data"
    },
    {
     "data": {
      "text/plain": [
       "array([3.49999633, 2.0000015 ])"
      ]
     },
     "execution_count": 79,
     "metadata": {},
     "output_type": "execute_result"
    }
   ],
   "source": [
    "res = curve_fit(f, x, y, p0=(1, 2))\n",
    "\n",
    "plt.figure(figsize=(3, 2))\n",
    "plt.plot(x, y, color='blue')\n",
    "plt.plot(x, f(x, res[0][0], res[0][1]), color='red')\n",
    "plt.show()\n",
    "\n",
    "res[0]"
   ]
  },
  {
   "cell_type": "code",
   "execution_count": 72,
   "metadata": {},
   "outputs": [
    {
     "data": {
      "image/png": "[encoded data removed]",
      "text/plain": [
       "<Figure size 216x144 with 1 Axes>"
      ]
     },
     "metadata": {
      "needs_background": "light"
     },
     "output_type": "display_data"
    },
    {
     "data": {
      "text/plain": [
       "array([3.49999633, 2.0000015 ])"
      ]
     },
     "execution_count": 72,
     "metadata": {},
     "output_type": "execute_result"
    }
   ],
   "source": [
    "res = curve_fit(f, x, y, p0=(0, 2))\n",
    "\n",
    "plt.figure(figsize=(3, 2))\n",
    "plt.plot(x, y, color='blue')\n",
    "plt.plot(x, f(x, res[0][0], res[0][1]), color='red')\n",
    "plt.show()\n",
    "\n",
    "res[0]"
   ]
  },
  {
   "cell_type": "code",
   "execution_count": 71,
   "metadata": {
    "id": "R6r3kYYCBND3"
   },
   "outputs": [
    {
     "data": {
      "image/png": "[encoded data removed]",
      "text/plain": [
       "<Figure size 216x144 with 1 Axes>"
      ]
     },
     "metadata": {
      "needs_background": "light"
     },
     "output_type": "display_data"
    },
    {
     "data": {
      "text/plain": [
       "array([3.49999633, 2.0000015 ])"
      ]
     },
     "execution_count": 71,
     "metadata": {},
     "output_type": "execute_result"
    }
   ],
   "source": [
    "res = curve_fit(f, x, y, p0=(3, 2))\n",
    "\n",
    "plt.figure(figsize=(3, 2))\n",
    "plt.plot(x, y, color='blue')\n",
    "plt.plot(x, f(x, res[0][0], res[0][1]), color='red')\n",
    "plt.show()\n",
    "\n",
    "res[0]"
   ]
  },
  {
   "cell_type": "code",
   "execution_count": 70,
   "metadata": {},
   "outputs": [
    {
     "data": {
      "image/png": "[encoded data removed]",
      "text/plain": [
       "<Figure size 216x144 with 1 Axes>"
      ]
     },
     "metadata": {
      "needs_background": "light"
     },
     "output_type": "display_data"
    },
    {
     "data": {
      "text/plain": [
       "array([-12.12957147,   0.87495799])"
      ]
     },
     "execution_count": 70,
     "metadata": {},
     "output_type": "execute_result"
    }
   ],
   "source": [
    "res = curve_fit(f, x, y, p0=(1, 1), method='lm')\n",
    "\n",
    "plt.figure(figsize=(3, 2))\n",
    "plt.plot(x, y, color='blue')\n",
    "plt.plot(x, f(x, res[0][0], res[0][1]), color='red')\n",
    "plt.show()\n",
    "\n",
    "res[0]"
   ]
  },
  {
   "cell_type": "code",
   "execution_count": 69,
   "metadata": {},
   "outputs": [
    {
     "data": {
      "image/png": "[encoded data removed]",
      "text/plain": [
       "<Figure size 216x144 with 1 Axes>"
      ]
     },
     "metadata": {
      "needs_background": "light"
     },
     "output_type": "display_data"
    },
    {
     "data": {
      "text/plain": [
       "array([ 1.21483174, -0.51641796])"
      ]
     },
     "execution_count": 69,
     "metadata": {},
     "output_type": "execute_result"
    }
   ],
   "source": [
    "res = curve_fit(f, x, y, p0=(0, 1), method='lm')\n",
    "\n",
    "plt.figure(figsize=(3, 2))\n",
    "plt.plot(x, y, color='blue')\n",
    "plt.plot(x, f(x, res[0][0], res[0][1]), color='red')\n",
    "plt.show()\n",
    "\n",
    "res[0]"
   ]
  },
  {
   "cell_type": "code",
   "execution_count": null,
   "metadata": {},
   "outputs": [],
   "source": []
  },
  {
   "cell_type": "code",
   "execution_count": 66,
   "metadata": {},
   "outputs": [
    {
     "data": {
      "image/png": "[encoded data removed]",
      "text/plain": [
       "<Figure size 216x144 with 1 Axes>"
      ]
     },
     "metadata": {
      "needs_background": "light"
     },
     "output_type": "display_data"
    }
   ],
   "source": [
    "res = curve_fit(f, x, y, p0=(0, 2), method='lm')\n",
    "\n",
    "plt.figure(figsize=(3, 2))\n",
    "plt.plot(x, y, color='blue')\n",
    "plt.plot(x, f(x, *res[0]), color='red')\n",
    "plt.show()"
   ]
  },
  {
   "cell_type": "code",
   "execution_count": 68,
   "metadata": {},
   "outputs": [
    {
     "data": {
      "text/plain": [
       "array([3.49999633, 2.0000015 ])"
      ]
     },
     "execution_count": 68,
     "metadata": {},
     "output_type": "execute_result"
    }
   ],
   "source": [
    "res[0]"
   ]
  },
  {
   "cell_type": "code",
   "execution_count": null,
   "metadata": {},
   "outputs": [],
   "source": []
  }
 ],
 "metadata": {
  "colab": {
   "collapsed_sections": [],
   "name": "HW_6_upd",
   "provenance": []
  },
  "kernelspec": {
   "display_name": "Python 3 (ipykernel)",
   "language": "python",
   "name": "python3"
  },
  "language_info": {
   "codemirror_mode": {
    "name": "ipython",
    "version": 3
   },
   "file_extension": ".py",
   "mimetype": "text/x-python",
   "name": "python",
   "nbconvert_exporter": "python",
   "pygments_lexer": "ipython3",
   "version": "3.9.7"
  }
 },
 "nbformat": 4,
 "nbformat_minor": 1
}
