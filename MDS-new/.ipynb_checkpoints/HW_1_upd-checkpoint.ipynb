{
 "cells": [
  {
   "cell_type": "markdown",
   "metadata": {
    "id": "_kX74ytuOfgy"
   },
   "source": [
    "# Домашнее задание \"Основные математические понятия\"."
   ]
  },
  {
   "cell_type": "markdown",
   "metadata": {
    "id": "nW5C45enfdcu"
   },
   "source": []
  },
  {
   "cell_type": "markdown",
   "metadata": {
    "id": "t69IZulqTZMz"
   },
   "source": [
    "## Уровень 0:\n"
   ]
  },
  {
   "cell_type": "markdown",
   "metadata": {
    "id": "rzDIWhwiKxdO"
   },
   "source": [
    "Представим фильмы в виде бинарных векторов (numpy array) используя следующие признаки:\n",
    "\n",
    "[Комедия, Боевик, Исторический, Бред Питт, Бенедикт Камбербэтч, Квентин Тарантино]\n",
    "\n",
    "[Игра в имитацию](https://www.kinopoisk.ru/film/635772/)\n",
    "\n",
    "[Ярость](https://www.kinopoisk.ru/film/740644/)\n",
    "\n",
    "[12 лет рабства](https://www.kinopoisk.ru/film/606646/)\n",
    "\n",
    "[Однажды в Голливуде](https://www.kinopoisk.ru/film/1047883/)\n",
    "\n",
    "```\n",
    "film_1 = np.array([0,0,0,0,1,0])      # Игра в имитацию\n",
    "\n",
    "film_2 = np.array([0,1,0,1,0,0])      # Ярость\n",
    "\n",
    "film_3 = np.array([0,0,1,1,1,0])      # 12 лет рабства\n",
    "\n",
    "film_4 = np.array([1,0,0,1,0,1])      # Однажды в Голливуде\n",
    "```\n",
    "\n"
   ]
  },
  {
   "cell_type": "code",
   "execution_count": null,
   "metadata": {
    "id": "eawtOZO0few8"
   },
   "outputs": [],
   "source": [
    "import numpy as np\n",
    "\n",
    "mertrics = ['Комедия','Боевик','Исторический','Бред Питт','Бенедикт Камбербэтч','Квентин Тарантино']\n",
    "\n",
    "links = ['https://www.kinopoisk.ru/film/635772/',\n",
    "         'https://www.kinopoisk.ru/film/740644/',\n",
    "         'https://www.kinopoisk.ru/film/606646/',\n",
    "         'https://www.kinopoisk.ru/film/1047883/'\n",
    "]\n",
    "\n",
    "titles = ['Игра в имитацию','Ярость','12 лет рабства','Однажды в Голливуде']\n",
    "\n",
    "film_1 = np.array([0,0,0,0,1,0])      # Игра в имитацию\n",
    "\n",
    "film_2 = np.array([0,1,0,1,0,0])      # Ярость\n",
    "\n",
    "film_3 = np.array([0,0,1,1,1,0])      # 12 лет рабства\n",
    "\n",
    "film_4 = np.array([1,0,0,1,0,1])      # Однажды в Голливуде\n"
   ]
  },
  {
   "cell_type": "markdown",
   "metadata": {
    "id": "9JUikPzroAL8"
   },
   "source": [
    "### Задание 1"
   ]
  },
  {
   "cell_type": "markdown",
   "metadata": {
    "id": "ya8BlSO5nQ9a"
   },
   "source": [
    "Найти угол между векторами-фильмами \"Ярость\" и \"12 лет рабства\". Результатом будет являться косинусная мера, которую можно использовать для определения похожести векторов."
   ]
  },
  {
   "cell_type": "code",
   "execution_count": null,
   "metadata": {
    "id": "p2gC3FEFnY08"
   },
   "outputs": [],
   "source": [
    "cos_v = np.dot(film_2, film_3) / (np.linalg.norm(film_2) * np.linalg.norm(film_3))\n",
    "cos_v"
   ]
  },
  {
   "cell_type": "markdown",
   "metadata": {
    "id": "qZxS_tEVTapE"
   },
   "source": [
    "## Уровень 1:"
   ]
  },
  {
   "cell_type": "markdown",
   "metadata": {
    "id": "gUB5Tx31oDZB"
   },
   "source": [
    "### Задание 2"
   ]
  },
  {
   "cell_type": "markdown",
   "metadata": {
    "id": "Jh-pEPj-TcDQ"
   },
   "source": [
    "Вычислить с помощью Python значение первой производной для функции $8x(x+3)^2$ в точке $x=1$\n"
   ]
  },
  {
   "cell_type": "code",
   "execution_count": null,
   "metadata": {
    "id": "uco5UzhWoHAP"
   },
   "outputs": [],
   "source": [
    "import sympy as sym\n",
    "\n",
    "x = sym.Symbol('x')\n",
    "\n",
    "f = 8*x*(x+3)**2\n",
    "\n",
    "sym.diff(f).subs(x,1)"
   ]
  },
  {
   "cell_type": "markdown",
   "metadata": {
    "id": "aHk7fBooosb6"
   },
   "source": [
    "### Задание 3\n"
   ]
  },
  {
   "cell_type": "markdown",
   "metadata": {
    "id": "0MFp0SProbiw"
   },
   "source": [
    "Объединить векторы фильмов в матрицу, где каждый вектор является строкой матрицы. Умножьте вектор [1,2,3,4] на полученную матрицу"
   ]
  },
  {
   "cell_type": "code",
   "execution_count": null,
   "metadata": {
    "id": "1OeJWLrpobqU"
   },
   "outputs": [],
   "source": [
    "films = np.array([film_1, film_2, film_3, film_4])\n",
    "V = np.array([[1,2,3,4]])\n",
    "\n",
    "V @ films"
   ]
  },
  {
   "cell_type": "code",
   "execution_count": null,
   "metadata": {},
   "outputs": [],
   "source": []
  }
 ],
 "metadata": {
  "colab": {
   "collapsed_sections": [],
   "name": "HW_1_upd",
   "provenance": []
  },
  "kernelspec": {
   "display_name": "Python 3 (ipykernel)",
   "language": "python",
   "name": "python3"
  }
 },
 "nbformat": 4,
 "nbformat_minor": 1
}
