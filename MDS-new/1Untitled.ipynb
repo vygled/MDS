{
 "cells": [
  {
   "cell_type": "code",
   "execution_count": 2,
   "id": "e98774be",
   "metadata": {},
   "outputs": [],
   "source": [
    "import numpy as np"
   ]
  },
  {
   "cell_type": "code",
   "execution_count": 3,
   "id": "5866bc85",
   "metadata": {},
   "outputs": [],
   "source": [
    "v = np.array([1,2,3,np.pi,5.25])"
   ]
  },
  {
   "cell_type": "code",
   "execution_count": 4,
   "id": "4a69c38b",
   "metadata": {},
   "outputs": [
    {
     "data": {
      "text/plain": [
       "array([1.        , 2.        , 3.        , 3.14159265, 5.25      ])"
      ]
     },
     "execution_count": 4,
     "metadata": {},
     "output_type": "execute_result"
    }
   ],
   "source": [
    "v"
   ]
  },
  {
   "cell_type": "code",
   "execution_count": 5,
   "id": "25d1da8e",
   "metadata": {},
   "outputs": [
    {
     "data": {
      "text/plain": [
       "(5,)"
      ]
     },
     "execution_count": 5,
     "metadata": {},
     "output_type": "execute_result"
    }
   ],
   "source": [
    "v.shape"
   ]
  },
  {
   "cell_type": "code",
   "execution_count": 6,
   "id": "846cdd6e",
   "metadata": {},
   "outputs": [],
   "source": [
    "import matplotlib.pyplot as plt"
   ]
  },
  {
   "cell_type": "code",
   "execution_count": 7,
   "id": "3f20b0be",
   "metadata": {},
   "outputs": [],
   "source": [
    "x1 = np.array([1,2])\n",
    "x2 = np.array([-1.5,1])\n",
    "x3 = np.array([0.5,-1.2])"
   ]
  },
  {
   "cell_type": "code",
   "execution_count": 8,
   "id": "be967967",
   "metadata": {},
   "outputs": [
    {
     "data": {
      "image/png": "[encoded data removed]",
      "text/plain": [
       "<Figure size 432x288 with 1 Axes>"
      ]
     },
     "metadata": {
      "needs_background": "light"
     },
     "output_type": "display_data"
    }
   ],
   "source": [
    "plt.figure()\n",
    "plt.plot(x1[0],x1[1],'b+')\n",
    "plt.plot(x2[0],x2[1],'r*')\n",
    "plt.plot(x3[0],x3[1],'go')\n",
    "plt.grid()\n",
    "plt.xlim([-3,3])\n",
    "plt.ylim([-3,3])\n",
    "plt.show()"
   ]
  },
  {
   "cell_type": "code",
   "execution_count": 9,
   "id": "b0e75b9f",
   "metadata": {},
   "outputs": [],
   "source": [
    "a = np.array([3,3,2,4])\n",
    "b = np.array([1,2,1,3])"
   ]
  },
  {
   "cell_type": "code",
   "execution_count": 10,
   "id": "e082eaac",
   "metadata": {},
   "outputs": [
    {
     "data": {
      "text/plain": [
       "array([4, 5, 3, 7])"
      ]
     },
     "execution_count": 10,
     "metadata": {},
     "output_type": "execute_result"
    }
   ],
   "source": [
    "a+b"
   ]
  },
  {
   "cell_type": "code",
   "execution_count": 11,
   "id": "899ef04f",
   "metadata": {},
   "outputs": [
    {
     "data": {
      "text/plain": [
       "array([ 3,  6,  2, 12])"
      ]
     },
     "execution_count": 11,
     "metadata": {},
     "output_type": "execute_result"
    }
   ],
   "source": [
    "a*b #произведение координат"
   ]
  },
  {
   "cell_type": "code",
   "execution_count": 12,
   "id": "1571b112",
   "metadata": {},
   "outputs": [
    {
     "data": {
      "text/plain": [
       "array([3.        , 1.5       , 2.        , 1.33333333])"
      ]
     },
     "execution_count": 12,
     "metadata": {},
     "output_type": "execute_result"
    }
   ],
   "source": [
    "a/b"
   ]
  },
  {
   "cell_type": "code",
   "execution_count": 13,
   "id": "96763533",
   "metadata": {},
   "outputs": [
    {
     "data": {
      "text/plain": [
       "23"
      ]
     },
     "execution_count": 13,
     "metadata": {},
     "output_type": "execute_result"
    }
   ],
   "source": [
    "np.dot(a,b)"
   ]
  },
  {
   "cell_type": "code",
   "execution_count": 14,
   "id": "0207ed4b",
   "metadata": {},
   "outputs": [
    {
     "data": {
      "text/plain": [
       "23"
      ]
     },
     "execution_count": 14,
     "metadata": {},
     "output_type": "execute_result"
    }
   ],
   "source": [
    "c = a * b\n",
    "c.sum()"
   ]
  },
  {
   "cell_type": "code",
   "execution_count": 15,
   "id": "9de69e58",
   "metadata": {},
   "outputs": [
    {
     "data": {
      "text/plain": [
       "15.557027456926955"
      ]
     },
     "execution_count": 15,
     "metadata": {},
     "output_type": "execute_result"
    }
   ],
   "source": [
    "np.rad2deg(np.arccos(np.dot(a,b) /\n",
    "                     (np.linalg.norm(a) * np.linalg.norm(b))))"
   ]
  },
  {
   "cell_type": "markdown",
   "id": "60eed010",
   "metadata": {},
   "source": [
    "# Матрицы"
   ]
  },
  {
   "cell_type": "code",
   "execution_count": 16,
   "id": "46c918dc",
   "metadata": {},
   "outputs": [],
   "source": [
    "A1 = np.array([[1,2,3],[4,5,6],[7,8,9]])"
   ]
  },
  {
   "cell_type": "code",
   "execution_count": 17,
   "id": "beed4f25",
   "metadata": {},
   "outputs": [],
   "source": [
    "A2 = np.random.random((3,3))"
   ]
  },
  {
   "cell_type": "code",
   "execution_count": 18,
   "id": "44dd8ec4",
   "metadata": {},
   "outputs": [
    {
     "data": {
      "text/plain": [
       "array([[1, 2, 3],\n",
       "       [4, 5, 6],\n",
       "       [7, 8, 9]])"
      ]
     },
     "execution_count": 18,
     "metadata": {},
     "output_type": "execute_result"
    }
   ],
   "source": [
    "A1"
   ]
  },
  {
   "cell_type": "code",
   "execution_count": 19,
   "id": "a45043fb",
   "metadata": {},
   "outputs": [
    {
     "data": {
      "text/plain": [
       "array([[0.88090377, 0.42004956, 0.79970668],\n",
       "       [0.8824598 , 0.90652404, 0.93936019],\n",
       "       [0.88597104, 0.86261054, 0.01074408]])"
      ]
     },
     "execution_count": 19,
     "metadata": {},
     "output_type": "execute_result"
    }
   ],
   "source": [
    "A2"
   ]
  },
  {
   "cell_type": "code",
   "execution_count": 20,
   "id": "8820026e",
   "metadata": {},
   "outputs": [
    {
     "data": {
      "text/plain": [
       "array([[0.88090377, 0.84009911, 2.39912004],\n",
       "       [3.5298392 , 4.53262022, 5.63616115],\n",
       "       [6.20179729, 6.90088436, 0.09669676]])"
      ]
     },
     "execution_count": 20,
     "metadata": {},
     "output_type": "execute_result"
    }
   ],
   "source": [
    "A1*A2"
   ]
  },
  {
   "cell_type": "code",
   "execution_count": 21,
   "id": "c69e4e69",
   "metadata": {},
   "outputs": [
    {
     "data": {
      "text/plain": [
       "array([[ 5.30373649,  4.82092928,  2.71065932],\n",
       "       [13.25174031, 11.38848171,  7.96009219],\n",
       "       [21.19974414, 17.95603415, 13.20952505]])"
      ]
     },
     "execution_count": 21,
     "metadata": {},
     "output_type": "execute_result"
    }
   ],
   "source": [
    "np.matmul(A1,A2)"
   ]
  },
  {
   "cell_type": "code",
   "execution_count": 22,
   "id": "8c0f6707",
   "metadata": {},
   "outputs": [
    {
     "data": {
      "text/plain": [
       "array([[ 5.30373649,  4.82092928,  2.71065932],\n",
       "       [13.25174031, 11.38848171,  7.96009219],\n",
       "       [21.19974414, 17.95603415, 13.20952505]])"
      ]
     },
     "execution_count": 22,
     "metadata": {},
     "output_type": "execute_result"
    }
   ],
   "source": [
    "A1@A2"
   ]
  },
  {
   "cell_type": "code",
   "execution_count": 23,
   "id": "04dcc3ea",
   "metadata": {},
   "outputs": [
    {
     "data": {
      "text/plain": [
       "(3, 3)"
      ]
     },
     "execution_count": 23,
     "metadata": {},
     "output_type": "execute_result"
    }
   ],
   "source": [
    "A2.shape"
   ]
  },
  {
   "cell_type": "code",
   "execution_count": 24,
   "id": "db0a6276",
   "metadata": {},
   "outputs": [],
   "source": [
    "A3 = np.eye(3)"
   ]
  },
  {
   "cell_type": "code",
   "execution_count": 25,
   "id": "e8c9883a",
   "metadata": {},
   "outputs": [
    {
     "data": {
      "text/plain": [
       "array([[1., 0., 0.],\n",
       "       [0., 1., 0.],\n",
       "       [0., 0., 1.]])"
      ]
     },
     "execution_count": 25,
     "metadata": {},
     "output_type": "execute_result"
    }
   ],
   "source": [
    "A3"
   ]
  },
  {
   "cell_type": "code",
   "execution_count": 26,
   "id": "53a6d362",
   "metadata": {},
   "outputs": [],
   "source": [
    "A4 = np.zeros((5,5))"
   ]
  },
  {
   "cell_type": "code",
   "execution_count": 28,
   "id": "9adcb51a",
   "metadata": {},
   "outputs": [
    {
     "data": {
      "text/plain": [
       "array([[0., 0., 0., 0., 0.],\n",
       "       [0., 0., 0., 0., 0.],\n",
       "       [0., 0., 0., 0., 0.],\n",
       "       [0., 0., 0., 0., 0.],\n",
       "       [0., 0., 0., 0., 0.]])"
      ]
     },
     "execution_count": 28,
     "metadata": {},
     "output_type": "execute_result"
    }
   ],
   "source": [
    "A4"
   ]
  },
  {
   "cell_type": "code",
   "execution_count": 29,
   "id": "4dca4008",
   "metadata": {},
   "outputs": [],
   "source": [
    "import sympy as sym"
   ]
  },
  {
   "cell_type": "code",
   "execution_count": 30,
   "id": "a3f73782",
   "metadata": {},
   "outputs": [],
   "source": [
    "x = sym.Symbol('x')"
   ]
  },
  {
   "cell_type": "code",
   "execution_count": 37,
   "id": "4c22080a",
   "metadata": {},
   "outputs": [],
   "source": [
    "3*x*(x**2+x)**3"
   ]
  },
  {
   "cell_type": "code",
   "execution_count": 34,
   "id": "e8f294f8",
   "metadata": {},
   "outputs": [],
   "source": [
    "res = sym.diff(3*x*(x**2+x)**3,x)"
   ]
  },
  {
   "cell_type": "code",
   "execution_count": 35,
   "id": "0321fec5",
   "metadata": {},
   "outputs": [
    {
     "data": {
      "text/latex": [
       "$\\displaystyle 3 x \\left(6 x + 3\\right) \\left(x^{2} + x\\right)^{2} + 3 \\left(x^{2} + x\\right)^{3}$"
      ],
      "text/plain": [
       "3*x*(6*x + 3)*(x**2 + x)**2 + 3*(x**2 + x)**3"
      ]
     },
     "execution_count": 35,
     "metadata": {},
     "output_type": "execute_result"
    }
   ],
   "source": [
    "res"
   ]
  },
  {
   "cell_type": "code",
   "execution_count": 36,
   "id": "da24693f",
   "metadata": {},
   "outputs": [
    {
     "data": {
      "text/latex": [
       "$\\displaystyle 132$"
      ],
      "text/plain": [
       "132"
      ]
     },
     "execution_count": 36,
     "metadata": {},
     "output_type": "execute_result"
    }
   ],
   "source": [
    "res.subs(x,1)"
   ]
  },
  {
   "cell_type": "code",
   "execution_count": null,
   "id": "8434d23d",
   "metadata": {},
   "outputs": [],
   "source": []
  }
 ],
 "metadata": {
  "kernelspec": {
   "display_name": "Python 3 (ipykernel)",
   "language": "python",
   "name": "python3"
  },
  "language_info": {
   "codemirror_mode": {
    "name": "ipython",
    "version": 3
   },
   "file_extension": ".py",
   "mimetype": "text/x-python",
   "name": "python",
   "nbconvert_exporter": "python",
   "pygments_lexer": "ipython3",
   "version": "3.9.7"
  }
 },
 "nbformat": 4,
 "nbformat_minor": 5
}
