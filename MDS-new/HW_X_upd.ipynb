{
 "cells": [
  {
   "cell_type": "markdown",
   "metadata": {
    "id": "g1hQiFW7isGe"
   },
   "source": [
    "# Итоговая работа."
   ]
  },
  {
   "cell_type": "code",
   "execution_count": 1,
   "metadata": {
    "id": "NyZ7GotDi1Mp"
   },
   "outputs": [],
   "source": [
    "import matplotlib.pyplot as plt\n",
    "import numpy as np\n",
    "\n",
    "from scipy.optimize import differential_evolution, curve_fit\n",
    "from scipy.optimize import minimize\n",
    "from scipy.stats import norm\n",
    "%matplotlib inline"
   ]
  },
  {
   "cell_type": "markdown",
   "metadata": {
    "id": "VZFf_auXisJd"
   },
   "source": [
    "## Задание 1"
   ]
  },
  {
   "cell_type": "markdown",
   "metadata": {
    "id": "39rGnTIojFlV"
   },
   "source": [
    "\n",
    "Вычислите производную функции: \n",
    "\n",
    "$tg^2(sin(x) + cos(2x+3))$ \n",
    "\n",
    "в точке $x_0=1$\n"
   ]
  },
  {
   "cell_type": "code",
   "execution_count": 2,
   "metadata": {
    "id": "9NqehLwAL-p6"
   },
   "outputs": [
    {
     "name": "stdout",
     "output_type": "stream",
     "text": [
      "производная функции tan(sin(x) + cos(2*x + 3))**2, в точке 1 равна - 55.39\n"
     ]
    }
   ],
   "source": [
    "from sympy import cos, diff, sin, Symbol, tan\n",
    "\n",
    "x = Symbol('x')\n",
    "\n",
    "f = (tan(sin(x) + cos(2*x + 3)))**2\n",
    "x0 = 1\n",
    "\n",
    "df = diff(f).subs(x,x0)\n",
    "\n",
    "print(f'производная функции {f}, в точке {x0} равна - {round(float(df), 2)}')\n"
   ]
  },
  {
   "cell_type": "markdown",
   "metadata": {
    "id": "P0dJuDCHlitb"
   },
   "source": [
    "## Задание 2"
   ]
  },
  {
   "cell_type": "markdown",
   "metadata": {
    "id": "9t_CAEu4ljXX"
   },
   "source": [
    "Дан объект в $2D$ пространстве"
   ]
  },
  {
   "cell_type": "code",
   "execution_count": 3,
   "metadata": {
    "colab": {
     "base_uri": "https://localhost:8080/",
     "height": 286
    },
    "id": "jOSkPagdljlG",
    "outputId": "82d8f12e-7f64-4653-fb17-000eb83b0e3c"
   },
   "outputs": [
    {
     "data": {
      "text/plain": [
       "(-200.0, 200.0)"
      ]
     },
     "execution_count": 3,
     "metadata": {},
     "output_type": "execute_result"
    },
    {
     "data": {
      "image/png": "[encoded data removed]",
      "text/plain": [
       "<Figure size 432x288 with 1 Axes>"
      ]
     },
     "metadata": {
      "needs_background": "light"
     },
     "output_type": "display_data"
    }
   ],
   "source": [
    "import numpy as np\n",
    "import matplotlib.pyplot as plt\n",
    "\n",
    "A = [\n",
    "[-100, -100, 1],\n",
    "[0, 100, 1],\n",
    "[100, -100, 1],\n",
    "[-100, -100, 1]\n",
    "]\n",
    "\n",
    "A = np.array(A)\n",
    "\n",
    "x = A[:,0]\n",
    "y = A[:,1]\n",
    "plt.plot(x, y)\n",
    "plt.ylim([-200, 200])\n",
    "plt.xlim([-200, 200]) "
   ]
  },
  {
   "cell_type": "markdown",
   "metadata": {
    "id": "ALnwba_5lkFh"
   },
   "source": [
    "При помощи матричных операций выполните:\n",
    "- Масштабирование и смещение объекта (применить 2 матрицы трансформаций). Масштабирование на (0.5, 1.2) и смещение на (200, 300)\n"
   ]
  },
  {
   "cell_type": "code",
   "execution_count": 4,
   "metadata": {
    "id": "k1J7lbkRlkON"
   },
   "outputs": [
    {
     "data": {
      "text/plain": [
       "(-200.0, 200.0)"
      ]
     },
     "execution_count": 4,
     "metadata": {},
     "output_type": "execute_result"
    },
    {
     "data": {
      "image/png": "[encoded data removed]",
      "text/plain": [
       "<Figure size 432x288 with 1 Axes>"
      ]
     },
     "metadata": {
      "needs_background": "light"
     },
     "output_type": "display_data"
    }
   ],
   "source": [
    "#Матрица масштабирования\n",
    "B1 = np.array([[0.5,0,0],[0,1.2,0],[0,0,1]])\n",
    "A1 = A@B1\n",
    "\n",
    "x = A1[:,0]\n",
    "y = A1[:,1]\n",
    "plt.plot(x, y)\n",
    "plt.ylim([-200, 200])\n",
    "plt.xlim([-200, 200]) "
   ]
  },
  {
   "cell_type": "code",
   "execution_count": 18,
   "metadata": {},
   "outputs": [
    {
     "data": {
      "text/plain": [
       "(-200.0, 500.0)"
      ]
     },
     "execution_count": 18,
     "metadata": {},
     "output_type": "execute_result"
    },
    {
     "data": {
      "image/png": "[encoded data removed]",
      "text/plain": [
       "<Figure size 432x288 with 1 Axes>"
      ]
     },
     "metadata": {
      "needs_background": "light"
     },
     "output_type": "display_data"
    }
   ],
   "source": [
    "#матрица смещения\n",
    "B2 = np.array([[200,300,0],[200,300,0],[200,300,0],[200,300,0]])\n",
    "A2 = A1+B2\n",
    "\n",
    "x = A2[:,0]\n",
    "y = A2[:,1]\n",
    "plt.plot(x, y)\n",
    "plt.ylim([-200, 500])\n",
    "plt.xlim([-200, 500]) "
   ]
  },
  {
   "cell_type": "markdown",
   "metadata": {
    "id": "QRJEo5ydjFjG"
   },
   "source": [
    "## Задание 3\n"
   ]
  },
  {
   "cell_type": "markdown",
   "metadata": {
    "id": "j1IOvxF8L1v4"
   },
   "source": [
    "Найдите собственные значения и собственные вектора матрицы:"
   ]
  },
  {
   "cell_type": "code",
   "execution_count": 5,
   "metadata": {
    "id": "6aq0Aa8NL4gW"
   },
   "outputs": [
    {
     "name": "stdout",
     "output_type": "stream",
     "text": [
      "[[1 4]\n",
      " [1 1]]\n"
     ]
    }
   ],
   "source": [
    "m = np.array([[1, 4],\n",
    "              [1, 1]])\n",
    "print(m)"
   ]
  },
  {
   "cell_type": "code",
   "execution_count": 6,
   "metadata": {
    "id": "UOAdFwznMdY5"
   },
   "outputs": [
    {
     "name": "stdout",
     "output_type": "stream",
     "text": [
      "Cобственные значения - [ 3. -1.]\n",
      "Cобственные векторы - [[ 0.89442719 -0.89442719]\n",
      " [ 0.4472136   0.4472136 ]]\n"
     ]
    }
   ],
   "source": [
    "v, S = np.linalg.eig(m)\n",
    "\n",
    "print(f'Cобственные значения - {v}')\n",
    "print(f'Cобственные векторы - {S}')"
   ]
  },
  {
   "cell_type": "markdown",
   "metadata": {
    "id": "T1y3_xiwjFpC"
   },
   "source": [
    "## Задание 4\n"
   ]
  },
  {
   "cell_type": "markdown",
   "metadata": {
    "id": "iJnhteBQMScA"
   },
   "source": [
    "Дана функция с неизвестными параметрами a и b, вам также известны значения функции `fx` в точках `x`. \n",
    "\n",
    "Найдите оптимальные параметры a, b, минимизирующие абсолютную ошибку `error`.\n"
   ]
  },
  {
   "cell_type": "code",
   "execution_count": 7,
   "metadata": {
    "id": "eCUHicv7MSix"
   },
   "outputs": [],
   "source": [
    "def f(x, a, b):\n",
    "    return np.e**a * np.sin(b*x) + x"
   ]
  },
  {
   "cell_type": "code",
   "execution_count": 8,
   "metadata": {
    "id": "99KsJtMSMSk7"
   },
   "outputs": [],
   "source": [
    "x = np.array([0.        , 0.26315789, 0.52631579, 0.78947368, 1.05263158,\n",
    "              1.31578947, 1.57894737, 1.84210526, 2.10526316, 2.36842105,\n",
    "              2.63157895, 2.89473684, 3.15789474, 3.42105263, 3.68421053,\n",
    "              3.94736842, 4.21052632, 4.47368421, 4.73684211, 5.        ])\n",
    "\n",
    "fx = np.array([  0.        , -12.01819092, -18.90968634, -17.68786571,\n",
    "                -8.7529108 ,   4.27524517,  16.06801336,  21.81250213,\n",
    "                19.22059845,   9.48411207,  -3.22273056, -13.48576488,\n",
    "               -16.91096359, -11.95866834,  -0.58630088,  12.56873816,\n",
    "                22.12489421,  24.20292139,  18.04522521,   6.33211092])"
   ]
  },
  {
   "cell_type": "code",
   "execution_count": 9,
   "metadata": {
    "id": "ZVBTEvLlMSnf"
   },
   "outputs": [
    {
     "data": {
      "image/png": "[encoded data removed]",
      "text/plain": [
       "<Figure size 432x288 with 1 Axes>"
      ]
     },
     "metadata": {
      "needs_background": "light"
     },
     "output_type": "display_data"
    }
   ],
   "source": [
    "plt.plot(x, fx)\n",
    "plt.show()"
   ]
  },
  {
   "cell_type": "code",
   "execution_count": 10,
   "metadata": {
    "id": "S_hiJIdNMSpt"
   },
   "outputs": [],
   "source": [
    "def error(params):\n",
    "    return np.sum(np.abs(fx - f(x, params[0], params[1])))"
   ]
  },
  {
   "cell_type": "code",
   "execution_count": 11,
   "metadata": {},
   "outputs": [
    {
     "data": {
      "text/plain": [
       "     fun: 1.5130289208187264e-06\n",
       " message: 'Optimization terminated successfully.'\n",
       "    nfev: 2073\n",
       "     nit: 66\n",
       " success: True\n",
       "       x: array([ 3. , -2.5])"
      ]
     },
     "execution_count": 11,
     "metadata": {},
     "output_type": "execute_result"
    }
   ],
   "source": [
    "bounds = [(-10, 10), (-10, 10)]\n",
    "\n",
    "result = differential_evolution(error, bounds, seed=42)\n",
    "result"
   ]
  },
  {
   "cell_type": "code",
   "execution_count": 12,
   "metadata": {},
   "outputs": [
    {
     "data": {
      "text/plain": [
       "1.5130289208187264e-06"
      ]
     },
     "execution_count": 12,
     "metadata": {},
     "output_type": "execute_result"
    }
   ],
   "source": [
    "error(result.x)"
   ]
  },
  {
   "cell_type": "code",
   "execution_count": 13,
   "metadata": {},
   "outputs": [
    {
     "name": "stdout",
     "output_type": "stream",
     "text": [
      " оптимальные параметры a, b - (3.0, -2.5)\n"
     ]
    }
   ],
   "source": [
    "a = result.x[0]\n",
    "b = result.x[1]\n",
    "print(f' оптимальные параметры a, b - {round(a, 2), round(b, 2)}')"
   ]
  },
  {
   "cell_type": "code",
   "execution_count": 15,
   "metadata": {},
   "outputs": [
    {
     "data": {
      "image/png": "[encoded data removed]",
      "text/plain": [
       "<Figure size 432x288 with 1 Axes>"
      ]
     },
     "metadata": {
      "needs_background": "light"
     },
     "output_type": "display_data"
    }
   ],
   "source": [
    "plt.plot(x, fx)\n",
    "plt.plot(x, f(x, a, b))\n",
    "plt.show()"
   ]
  },
  {
   "cell_type": "code",
   "execution_count": 16,
   "metadata": {},
   "outputs": [
    {
     "data": {
      "image/png": "[encoded data removed]",
      "text/plain": [
       "<Figure size 432x288 with 1 Axes>"
      ]
     },
     "metadata": {
      "needs_background": "light"
     },
     "output_type": "display_data"
    }
   ],
   "source": [
    "plt.plot(x, fx)\n",
    "x_ = np.linspace(0, 5, 100)\n",
    "plt.plot(x_, f(x_, a, b))\n",
    "plt.show()"
   ]
  },
  {
   "cell_type": "markdown",
   "metadata": {
    "id": "w994ooEPPv5W"
   },
   "source": [
    "## Задание 5\n",
    "\n"
   ]
  },
  {
   "cell_type": "markdown",
   "metadata": {
    "id": "ABMPXsuhisMO"
   },
   "source": [
    "Дана матрица рейтингов фильмов (строки - пользователи (10 человек), столбцы - фильмы (15 фильмов))"
   ]
  },
  {
   "cell_type": "code",
   "execution_count": 17,
   "metadata": {
    "id": "D4_Vshevi-4P"
   },
   "outputs": [],
   "source": [
    "raitings = np.array([[ 4,  4,  9,  4,  1,  6, 10,  7,  9,  6,  9,  2,  8,  6,  6],\n",
    "                     [ 9,  2,  5, 10,  7,  8, 10,  5,  6,  2,  1,  6,  8,  9,  7],\n",
    "                     [ 1,  6,  8,  8,  4,  9,  3,  8, 10,  5,  2,  6,  8,  1,  6],\n",
    "                     [ 6,  1,  9,  7,  7,  9,  2,  3,  5,  1,  6,  6,  3,  2,  7],\n",
    "                     [ 3,  7,  3,  5,  7,  9,  9,  6,  2,  9,  1,  2,  8, 10,  6],\n",
    "                     [ 8,  3,  7,  3,  8,  6,  1,  8,  8,  6,  1,  9,  4, 10,  1],\n",
    "                     [ 9,  8,  4,  8,  8, 10,  6,  1,  1,  2,  9,  5,  2,  7,  2],\n",
    "                     [ 4,  1,  6,  4,  3, 10,  4,  4,  2,  8,  7,  9,  3,  8,  3],\n",
    "                     [ 2,  7,  7,  6, 10,  6,  8,  9,  8,  6, 10,  1,  7, 10,  4],\n",
    "                     [ 5, 10,  8,  8,  9,  7,  2,  9,  9, 10,  8,  8,  8,  6, 10]])"
   ]
  },
  {
   "cell_type": "markdown",
   "metadata": {
    "id": "FuYpBPsTjBVa"
   },
   "source": [
    "Необходимо найти наиболее похожего пользователя по косинусной метрике для каждого из пользователей (ответ: 10 пар вида (x, y), где y - наиболее похожий пользователь на пользователя x)."
   ]
  },
  {
   "cell_type": "code",
   "execution_count": 18,
   "metadata": {},
   "outputs": [
    {
     "data": {
      "text/plain": [
       "10"
      ]
     },
     "execution_count": 18,
     "metadata": {},
     "output_type": "execute_result"
    }
   ],
   "source": [
    "users_number = len(raitings)\n",
    "users_number"
   ]
  },
  {
   "cell_type": "code",
   "execution_count": 19,
   "metadata": {},
   "outputs": [
    {
     "data": {
      "text/plain": [
       "array([[1.0, 0.8260291914926011, 0.8492152913329328, 0.7834011593236074,\n",
       "        0.8191763207928605, 0.7411854787309532, 0.7273582830552573,\n",
       "        0.8096752188740591, 0.9106598233573044, 0.8601077572660832],\n",
       "       [0.8260291914926011, 1.0, 0.8123432494307796, 0.8463533715492267,\n",
       "        0.8713805223930228, 0.8271310743150353, 0.8262968404756843,\n",
       "        0.8002600269984134, 0.8252630791081776, 0.8196812673341947],\n",
       "       [0.8492152913329328, 0.8123432494307796, 1.0, 0.8466937399285854,\n",
       "        0.7839429872916631, 0.7909798532223776, 0.6761622283340306,\n",
       "        0.7628955209443427, 0.8211207737697991, 0.9187305147356807],\n",
       "       [0.7834011593236074, 0.8463533715492267, 0.8466937399285854,\n",
       "        0.9999999999999999, 0.6915340887233647, 0.7866579187986692,\n",
       "        0.832742107055763, 0.8293466659451719, 0.7770665979363705,\n",
       "        0.8588686958710952],\n",
       "       [0.8191763207928605, 0.8713805223930228, 0.7839429872916631,\n",
       "        0.6915340887233647, 0.9999999999999998, 0.7764434024380763,\n",
       "        0.7820046786392458, 0.8123686946684676, 0.8794847716076252,\n",
       "        0.8457478916625362],\n",
       "       [0.7411854787309532, 0.8271310743150353, 0.7909798532223776,\n",
       "        0.7866579187986692, 0.7764434024380763, 1.0, 0.7401180077674939,\n",
       "        0.8445168512565341, 0.8062287623333154, 0.8551490764118892],\n",
       "       [0.7273582830552573, 0.8262968404756843, 0.6761622283340306,\n",
       "        0.832742107055763, 0.7820046786392458, 0.7401180077674939,\n",
       "        0.9999999999999998, 0.8266917359429506, 0.8113004443944629,\n",
       "        0.7915471832639056],\n",
       "       [0.8096752188740591, 0.8002600269984134, 0.7628955209443427,\n",
       "        0.8293466659451719, 0.8123686946684676, 0.8445168512565341,\n",
       "        0.8266917359429506, 1.0000000000000002, 0.7981276021475276,\n",
       "        0.8368222940470545],\n",
       "       [0.9106598233573044, 0.8252630791081776, 0.8211207737697991,\n",
       "        0.7770665979363705, 0.8794847716076252, 0.8062287623333154,\n",
       "        0.8113004443944629, 0.7981276021475276, 1.0, 0.9009379748686901],\n",
       "       [0.8601077572660832, 0.8196812673341947, 0.9187305147356807,\n",
       "        0.8588686958710952, 0.8457478916625362, 0.8551490764118892,\n",
       "        0.7915471832639056, 0.8368222940470545, 0.9009379748686901,\n",
       "        0.9999999999999999]], dtype=object)"
      ]
     },
     "execution_count": 19,
     "metadata": {},
     "output_type": "execute_result"
    }
   ],
   "source": [
    "# создам матрице 10х10 попарных значений косинусов угла между векторами\n",
    "\n",
    "cos_raitings = np.empty((users_number,users_number), dtype=\"object\")\n",
    "\n",
    "for user_i, raiting_i in enumerate(raitings):\n",
    "    cos_i = []\n",
    "    for user_j, rating_j in enumerate(raitings):\n",
    "        \n",
    "        cos_j = np.dot(raiting_i, rating_j) / (np.linalg.norm(raiting_i) * np.linalg.norm(rating_j))\n",
    "        cos_i.append(cos_j)\n",
    "        \n",
    "    cos_raitings[user_i] = cos_i\n",
    "\n",
    "cos_raitings"
   ]
  },
  {
   "cell_type": "code",
   "execution_count": 20,
   "metadata": {
    "id": "dY3dBHLbKY_I"
   },
   "outputs": [
    {
     "name": "stdout",
     "output_type": "stream",
     "text": [
      "Пользователь 0, больше всего похож на пользователя 8\n",
      "косинусная мера 0.9106598233573044\n",
      "Пользователь 1, больше всего похож на пользователя 4\n",
      "косинусная мера 0.8713805223930228\n",
      "Пользователь 2, больше всего похож на пользователя 9\n",
      "косинусная мера 0.9187305147356807\n",
      "Пользователь 3, больше всего похож на пользователя 9\n",
      "косинусная мера 0.8588686958710952\n",
      "Пользователь 4, больше всего похож на пользователя 8\n",
      "косинусная мера 0.8794847716076252\n",
      "Пользователь 5, больше всего похож на пользователя 9\n",
      "косинусная мера 0.8551490764118892\n",
      "Пользователь 6, больше всего похож на пользователя 3\n",
      "косинусная мера 0.832742107055763\n",
      "Пользователь 7, больше всего похож на пользователя 5\n",
      "косинусная мера 0.8445168512565341\n",
      "Пользователь 8, больше всего похож на пользователя 0\n",
      "косинусная мера 0.9106598233573044\n",
      "Пользователь 9, больше всего похож на пользователя 2\n",
      "косинусная мера 0.9187305147356807\n"
     ]
    },
    {
     "data": {
      "text/plain": [
       "{0: 8, 1: 4, 2: 9, 3: 9, 4: 8, 5: 9, 6: 3, 7: 5, 8: 0, 9: 2}"
      ]
     },
     "execution_count": 20,
     "metadata": {},
     "output_type": "execute_result"
    }
   ],
   "source": [
    "# ищу максимальное значение косинуса, и записываю в словарь попарно векторы с максимальным косинусом\n",
    "\n",
    "pares = {}\n",
    "for i in range(users_number):\n",
    "    min_cos = min(cos_raitings[i])\n",
    "\n",
    "    for j, cos_j in enumerate(cos_raitings[i]):\n",
    "    \n",
    "        if (min_cos <= cos_j) and (i != j):\n",
    "            min_cos = cos_j\n",
    "            pares[i] = j\n",
    "    print(f'Пользователь {i}, больше всего похож на пользователя {pares[i]}')   \n",
    "    print(f'косинусная мера {min_cos}')\n",
    "pares"
   ]
  },
  {
   "cell_type": "code",
   "execution_count": null,
   "metadata": {},
   "outputs": [],
   "source": []
  }
 ],
 "metadata": {
  "colab": {
   "collapsed_sections": [],
   "name": "HW_X_upd",
   "provenance": []
  },
  "kernelspec": {
   "display_name": "Python 3 (ipykernel)",
   "language": "python",
   "name": "python3"
  },
  "language_info": {
   "codemirror_mode": {
    "name": "ipython",
    "version": 3
   },
   "file_extension": ".py",
   "mimetype": "text/x-python",
   "name": "python",
   "nbconvert_exporter": "python",
   "pygments_lexer": "ipython3",
   "version": "3.9.7"
  }
 },
 "nbformat": 4,
 "nbformat_minor": 1
}
